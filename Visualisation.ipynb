{
 "cells": [
  {
   "cell_type": "markdown",
   "id": "984b6e4d-1e91-4108-b32b-110b49b161da",
   "metadata": {},
   "source": [
    "# Visualisation"
   ]
  },
  {
   "cell_type": "markdown",
   "id": "d5a8159b-b189-41a2-9841-539729c53dc5",
   "metadata": {},
   "source": [
    "This section will explore the most widely used tools for visualizing electroencephalography (EEG) data. EEG is a technique that measures the electrical activity of the brain using electrodes placed on the scalp. Visualizing this complex data is crucial for researchers and clinicians to identify patterns, detect abnormalities, and gain insights into brain function."
   ]
  },
  {
   "cell_type": "markdown",
   "id": "ace02995-17f6-437b-ad01-ae320a54989f",
   "metadata": {},
   "source": [
    "## Import libraries\n",
    "To install libraries in Python, you can use a package manager like pip, which comes pre-installed with most Python distributions.\n",
    "\n"
   ]
  },
  {
   "cell_type": "code",
   "execution_count": null,
   "id": "bd8c0e3d-41c9-41c5-806d-2b9080e24962",
   "metadata": {},
   "outputs": [],
   "source": [
    "from matplotlib import pyplot as plt\n",
    "import pandas as pd\n",
    "import numpy as np\n",
    "from scipy import signal\n",
    "\n",
    "# !pip install mne\n",
    "import mne"
   ]
  },
  {
   "cell_type": "code",
   "execution_count": null,
   "id": "27019d30-be21-47ea-af8a-153799efa037",
   "metadata": {},
   "outputs": [],
   "source": [
    "## Import Dataset"
   ]
  }
 ],
 "metadata": {
  "kernelspec": {
   "display_name": "Python 3 (ipykernel)",
   "language": "python",
   "name": "python3"
  },
  "language_info": {
   "codemirror_mode": {
    "name": "ipython",
    "version": 3
   },
   "file_extension": ".py",
   "mimetype": "text/x-python",
   "name": "python",
   "nbconvert_exporter": "python",
   "pygments_lexer": "ipython3",
   "version": "3.11.9"
  }
 },
 "nbformat": 4,
 "nbformat_minor": 5
}
