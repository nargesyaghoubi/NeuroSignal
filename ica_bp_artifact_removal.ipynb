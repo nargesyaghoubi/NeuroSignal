{
 "cells": [
  {
   "cell_type": "markdown",
   "id": "b3ccbd5a-37e9-4415-8e43-2c249859cf99",
   "metadata": {},
   "source": [
    "# Muscle artefacts removal (component decomposition)"
   ]
  },
  {
   "cell_type": "code",
   "execution_count": null,
   "id": "edf62f91-d53c-499a-9ead-793374a19250",
   "metadata": {},
   "outputs": [],
   "source": [
    "from matplotlib import pyplot as plt\n",
    "import pandas as pd\n",
    "import numpy as np\n",
    "import scipy.interpolate as spi\n",
    "from scipy import signal\n",
    "from sklearn.decomposition import PCA,FastICA\n",
    "\n",
    "\n",
    "# ! pip install pyts\n",
    "from pyts.decomposition import SingularSpectrumAnalysis\n",
    "\n",
    "# !pip install EMD-signal\n",
    "from PyEMD import EEMD\n",
    "# from pyhht.emd import EMD\n",
    "from sklearn.preprocessing import StandardScaler\n",
    "from sklearn.cluster import KMeans"
   ]
  }
 ],
 "metadata": {
  "kernelspec": {
   "display_name": "Python 3 (ipykernel)",
   "language": "python",
   "name": "python3"
  },
  "language_info": {
   "codemirror_mode": {
    "name": "ipython",
    "version": 3
   },
   "file_extension": ".py",
   "mimetype": "text/x-python",
   "name": "python",
   "nbconvert_exporter": "python",
   "pygments_lexer": "ipython3",
   "version": "3.11.9"
  }
 },
 "nbformat": 4,
 "nbformat_minor": 5
}
