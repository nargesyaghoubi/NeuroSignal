{
 "cells": [
  {
   "cell_type": "markdown",
   "id": "6794dd89-ad0f-4dbb-a65b-cd624d4a1e3c",
   "metadata": {},
   "source": [
    "# Application"
   ]
  },
  {
   "cell_type": "markdown",
   "id": "fd3acaea-8539-4c73-ba0c-ddb5accdd6bd",
   "metadata": {},
   "source": [
    "# Introduction\n",
    "\n",
    "The main goal of this chapter is to clearly demonstrate, using an applied example, how to use EEG signals for applied problems.\n",
    "Here we will look at an example of determining stress levels. And here we have the most interesting and complicated tasks.\n",
    "\n",
    "\n",
    "# Import libraries\n",
    "To install libraries in Python, you can use a package manager like pip, which comes pre-installed with most Python distributions."
   ]
  },
  {
   "cell_type": "code",
   "execution_count": 1,
   "id": "a4d02093-30af-4f30-b160-615a6e71fea6",
   "metadata": {},
   "outputs": [],
   "source": [
    "import sys\n",
    "import time\n",
    "import  matplotlib.pyplot as plt\n",
    "from scipy.ndimage import gaussian_filter1d\n",
    "import pandas as pd\n",
    "from scipy import signal\n",
    "import numpy as np\n",
    "from scipy.integrate import simps\n",
    "from scipy import signal\n",
    "import re"
   ]
  },
  {
   "cell_type": "markdown",
   "id": "31f92c45-4fbb-46ca-82ab-5031f123a1cd",
   "metadata": {},
   "source": [
    "# Import Dataset\n",
    "Here we have an example dataset of mornings and evenings after a busy day at work. Stress is expected to be low in the morning and high in the evening. This is a great dataset for detecting stress levels."
   ]
  },
  {
   "cell_type": "code",
   "execution_count": 4,
   "id": "3e7074c3-e689-46c2-9963-34362f64664a",
   "metadata": {},
   "outputs": [],
   "source": [
    "data_1_morning = \"datasets/dataset_emotional/1_morning.xlsx\"\n",
    "data_1_evening = \"datasets/dataset_emotional/1_evening.xlsx\"\n",
    "data_2_morning = \"datasets/dataset_emotional/2_morning.xlsx\"\n",
    "data_2_evening = \"datasets/dataset_emotional/2_evening.xlsx\"\n",
    "data_3_morning = \"datasets/dataset_emotional/3_morning.xlsx\"\n",
    "data_3_evening = \"datasets/dataset_emotional/3_evening.xlsx\"\n",
    "data_4_morning = \"datasets/dataset_emotional/4_morning.xlsx\"\n",
    "data_4_evening = \"datasets/dataset_emotional/4_evening.xlsx\"\n",
    "data_5_morning = \"datasets/dataset_emotional/5_morning.xlsx\"\n",
    "data_5_evening = \"datasets/dataset_emotional/5_evening.xlsx\"\n",
    "\n",
    "data = pd.read_excel(data_1_morning)\n",
    "print(data.columns)\n",
    "print(data.shape)\n",
    "data = data[\"ch1\"]\n",
    "plt.xlabel('Samples')\n",
    "plt.ylabel('EEG, μV')\n",
    "plt.title('EEG sample')\n",
    "plt.plot(data[2000:8000]) # use the clean data\n",
    "plt.show()"
   ]
  },
  {
   "cell_type": "code",
   "execution_count": null,
   "id": "8382d39f-c933-4b5d-b51d-aca044fb13ff",
   "metadata": {},
   "outputs": [],
   "source": []
  }
 ],
 "metadata": {
  "kernelspec": {
   "display_name": "Python 3 (ipykernel)",
   "language": "python",
   "name": "python3"
  },
  "language_info": {
   "codemirror_mode": {
    "name": "ipython",
    "version": 3
   },
   "file_extension": ".py",
   "mimetype": "text/x-python",
   "name": "python",
   "nbconvert_exporter": "python",
   "pygments_lexer": "ipython3",
   "version": "3.11.9"
  }
 },
 "nbformat": 4,
 "nbformat_minor": 5
}
