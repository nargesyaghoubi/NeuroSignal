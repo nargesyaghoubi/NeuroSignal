{
 "cells": [
  {
   "cell_type": "markdown",
   "id": "229d7d58-9600-4944-b71f-b809f23905c1",
   "metadata": {},
   "source": [
    "# Real time signal processing in EEG"
   ]
  },
  {
   "cell_type": "markdown",
   "id": "b25d791c-0f00-4949-b9fb-7948150832c4",
   "metadata": {},
   "source": [
    "## Import libraries\n",
    "To install libraries in Python, you can use a package manager like pip, which comes pre-installed with most Python distributions."
   ]
  },
  {
   "cell_type": "code",
   "execution_count": 1,
   "id": "4a58b1d0-e737-4c23-bff6-7ec740ee57c4",
   "metadata": {},
   "outputs": [],
   "source": [
    "import pandas as pd\n",
    "from scipy import signal\n",
    "import numpy as np\n",
    "import time\n",
    "import pylab as pl\n",
    "from IPython import display"
   ]
  },
  {
   "cell_type": "markdown",
   "id": "76588a6f-7302-4ced-bc2e-51be0860b3b3",
   "metadata": {},
   "source": [
    "## Real time signal processing in EEG\n",
    "\n",
    "Real-time signal processing in EEG (electroencephalography) is critical for several reasons. First, it provides immediate analysis and interpretation of brain activity, which is important for applications such as neurofeedback, brain-computer interfaces (BCI), and real-time monitoring of neurological conditions.\n",
    "\n",
    "In addition, real-time processing facilitates adaptive algorithms that can dynamically adapt to changing brain states, increasing the accuracy and effectiveness of interventions. This immediacy also improves the user experience in BCI by reducing latency, resulting in a smoother, more responsive experience.\n",
    "\n",
    "**Positive**  \n",
    "\n",
    "* Responsiveness: Real-time processing minimizes latency, making BCIs more effective and user-friendly by providing quick responses to user inputs.  \n",
    "* Adaptive Algorithms: Algorithms can dynamically adjust to ongoing changes in brain activity, enhancing the accuracy and functionality of BCIs.\n",
    "\n",
    "**Negative**  \n",
    "\n",
    "* Signal Noise: EEG signals are often contaminated with noise from various sources (e.g., muscle movements, electrical interference), which can complicate real-time processing and reduce accuracy.  \n",
    "* Computational Load: Real-time processing requires significant computational resources to filter, analyze, and interpret EEG data promptly.  \n",
    "* Accuracy: The need for fast processing can sometimes compromise the accuracy of signal interpretation, leading to false positives or negatives.  \n",
    "* Generalization: Real-time algorithms may not generalize well across different subjects or conditions, necessitating extensive customization and tuning.  \n",
    "\n",
    "**How it works**\n",
    "\n",
    "When working in real time, the main difference is the need to create a data buffer. It's crucial to determine the length of data that will be fed into the filter for processing and subsequent visualization. For instance, with a frame rate of 250 FPS (meaning we receive 250 EEG data points from each channel per second), data processing and visualization would occur once per secund. However, for bandpass filters, it is important to supply data with a margin, as the filter needs time for adjusting.\n",
    "\n",
    "In our example, we demonstrate the ability to set the length of one data packet and how many packets will be fed into the filter.\n",
    "\n",
    "**Recommendation**\n",
    "\n",
    "Try adjusting the bandpass filter settings and aim to achieve a faster graph update rate. Currently, the graph updates every sec.\n"
   ]
  },
  {
   "cell_type": "code",
   "execution_count": null,
   "id": "feb2bdd6-29ec-4a74-b0d7-c15e704af93d",
   "metadata": {},
   "outputs": [],
   "source": []
  },
  {
   "cell_type": "code",
   "execution_count": null,
   "id": "d6a645b1-15cb-4ac3-869e-c0a20cc646d1",
   "metadata": {},
   "outputs": [],
   "source": []
  },
  {
   "cell_type": "code",
   "execution_count": null,
   "id": "c7fbbb84-cb93-4181-8672-27ae8ebc8fe6",
   "metadata": {},
   "outputs": [],
   "source": []
  }
 ],
 "metadata": {
  "kernelspec": {
   "display_name": "Python 3 (ipykernel)",
   "language": "python",
   "name": "python3"
  },
  "language_info": {
   "codemirror_mode": {
    "name": "ipython",
    "version": 3
   },
   "file_extension": ".py",
   "mimetype": "text/x-python",
   "name": "python",
   "nbconvert_exporter": "python",
   "pygments_lexer": "ipython3",
   "version": "3.11.9"
  }
 },
 "nbformat": 4,
 "nbformat_minor": 5
}
